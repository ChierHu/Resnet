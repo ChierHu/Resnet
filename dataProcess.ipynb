{
 "cells": [
  {
   "cell_type": "code",
   "execution_count": 1,
   "id": "9a3d19c7-95ca-4e2c-8e3b-588c38209d7c",
   "metadata": {
    "tags": []
   },
   "outputs": [],
   "source": [
    "import os\n",
    "import shutil\n",
    "# Set the folder path to traverse\n",
    "folder_path = './test'\n",
    "\n",
    "# Set the txt file path to write the image name\n",
    "txt_file_path = './file.txt'\n",
    "\n",
    "# Set the destination folder path for copying pictures\n",
    "destination_folder_path = './test_all'\n",
    "\n",
    "# write the photoes' names to txt\n",
    "with open(txt_file_path, 'w') as f:\n",
    "    for root, dirs, files in os.walk(folder_path):\n",
    "        for dir in dirs:\n",
    "            for file in os.listdir(os.path.join(root, dir)):\n",
    "                if file.endswith('.jpg') or file.endswith('.jpeg') or file.endswith('.png'):\n",
    "                    f.write(file + '\\t'+ dir + '\\n')\n",
    "                    # Copy pictures to the destination folder\n",
    "                    shutil.copy(os.path.join(root, dir, file), destination_folder_path)"
   ]
  },
  {
   "cell_type": "code",
   "execution_count": 2,
   "id": "9ebad1bd-3453-470e-b2ee-21dea0a2b42c",
   "metadata": {
    "tags": []
   },
   "outputs": [
    {
     "name": "stdout",
     "output_type": "stream",
     "text": [
      "(7178, 4)\n"
     ]
    },
    {
     "data": {
      "text/html": [
       "<div>\n",
       "<style scoped>\n",
       "    .dataframe tbody tr th:only-of-type {\n",
       "        vertical-align: middle;\n",
       "    }\n",
       "\n",
       "    .dataframe tbody tr th {\n",
       "        vertical-align: top;\n",
       "    }\n",
       "\n",
       "    .dataframe thead th {\n",
       "        text-align: right;\n",
       "    }\n",
       "</style>\n",
       "<table border=\"1\" class=\"dataframe\">\n",
       "  <thead>\n",
       "    <tr style=\"text-align: right;\">\n",
       "      <th></th>\n",
       "      <th>file_name</th>\n",
       "      <th>score</th>\n",
       "      <th>suggest_type</th>\n",
       "      <th>label</th>\n",
       "    </tr>\n",
       "  </thead>\n",
       "  <tbody>\n",
       "    <tr>\n",
       "      <th>0</th>\n",
       "      <td>PrivateTest_10072988.jpg</td>\n",
       "      <td>0.999582</td>\n",
       "      <td>surprise</td>\n",
       "      <td>surprise</td>\n",
       "    </tr>\n",
       "    <tr>\n",
       "      <th>1</th>\n",
       "      <td>PrivateTest_10077120.jpg</td>\n",
       "      <td>0.983974</td>\n",
       "      <td>happy</td>\n",
       "      <td>happy</td>\n",
       "    </tr>\n",
       "    <tr>\n",
       "      <th>2</th>\n",
       "      <td>PrivateTest_10086748.jpg</td>\n",
       "      <td>0.962322</td>\n",
       "      <td>neutral</td>\n",
       "      <td>neutral</td>\n",
       "    </tr>\n",
       "    <tr>\n",
       "      <th>3</th>\n",
       "      <td>PrivateTest_10089743.jpg</td>\n",
       "      <td>0.725769</td>\n",
       "      <td>fear</td>\n",
       "      <td>surprise</td>\n",
       "    </tr>\n",
       "    <tr>\n",
       "      <th>4</th>\n",
       "      <td>PrivateTest_10131363.jpg</td>\n",
       "      <td>0.991428</td>\n",
       "      <td>angry</td>\n",
       "      <td>angry</td>\n",
       "    </tr>\n",
       "  </tbody>\n",
       "</table>\n",
       "</div>"
      ],
      "text/plain": [
       "                  file_name     score suggest_type     label\n",
       "0  PrivateTest_10072988.jpg  0.999582     surprise  surprise\n",
       "1  PrivateTest_10077120.jpg  0.983974        happy     happy\n",
       "2  PrivateTest_10086748.jpg  0.962322      neutral   neutral\n",
       "3  PrivateTest_10089743.jpg  0.725769         fear  surprise\n",
       "4  PrivateTest_10131363.jpg  0.991428        angry     angry"
      ]
     },
     "execution_count": 2,
     "metadata": {},
     "output_type": "execute_result"
    }
   ],
   "source": [
    "import pandas as pd\n",
    "\n",
    "df0 = pd.read_table('./Resnet/output/ResNet_test_data_res_0422.txt',sep = '\\t',encoding = 'gbk',header = None)\n",
    "df0.columns = ['file_name','score','suggest_type']\n",
    "\n",
    "df1 = pd.read_table('./file.txt',sep = '\\t',header = None,encoding = 'gbk')\n",
    "df1.columns = ['file_name','label']\n",
    "\n",
    "df = pd.merge(df0,df1,how = 'inner',on = ['file_name'])\n",
    "print(df.shape)\n",
    "df.head()"
   ]
  },
  {
   "cell_type": "code",
   "execution_count": 3,
   "id": "500b5f5a-b3be-4dcd-b70a-1475e988d3f3",
   "metadata": {
    "tags": []
   },
   "outputs": [
    {
     "data": {
      "text/plain": [
       "happy       1774\n",
       "sad         1247\n",
       "neutral     1233\n",
       "fear        1024\n",
       "angry        958\n",
       "surprise     831\n",
       "disgust      111\n",
       "Name: label, dtype: int64"
      ]
     },
     "execution_count": 3,
     "metadata": {},
     "output_type": "execute_result"
    }
   ],
   "source": [
    "df['label'].value_counts()"
   ]
  },
  {
   "cell_type": "code",
   "execution_count": 5,
   "id": "9fd529a3-ebc6-45ef-8598-412f3ef5009f",
   "metadata": {
    "tags": []
   },
   "outputs": [],
   "source": [
    "# Mapping Fields\n",
    "emotion2num = {'happy':'0','sad':'1','neutral':'2','fear':'3','angry':'4','surprise':'5','disgust':'6'}\n",
    "df['label'] = df['label'].map(emotion2num)\n",
    "df['suggest_type'] = df['suggest_type'].map(emotion2num)"
   ]
  },
  {
   "cell_type": "code",
   "execution_count": 6,
   "id": "277aaac4-9d21-4eb2-bb4f-21670f4eeaa5",
   "metadata": {
    "tags": []
   },
   "outputs": [
    {
     "name": "stdout",
     "output_type": "stream",
     "text": [
      "the accuracy is: 0.6960156032320981\n",
      "the classification is:               precision    recall  f1-score   support\n",
      "\n",
      "           0       0.89      0.87      0.88      1774\n",
      "           1       0.58      0.61      0.59      1247\n",
      "           2       0.64      0.67      0.66      1233\n",
      "           3       0.54      0.53      0.54      1024\n",
      "           4       0.67      0.57      0.61       958\n",
      "           5       0.77      0.84      0.81       831\n",
      "           6       0.60      0.73      0.66       111\n",
      "\n",
      "    accuracy                           0.70      7178\n",
      "   macro avg       0.67      0.69      0.68      7178\n",
      "weighted avg       0.70      0.70      0.70      7178\n",
      "\n"
     ]
    }
   ],
   "source": [
    "# Calculation accuracy\n",
    "from sklearn.metrics import accuracy_score\n",
    "from sklearn.metrics import classification_report\n",
    "\n",
    "label = df['label']\n",
    "predict = df['suggest_type']\n",
    "print('the accuracy is:',accuracy_score(label,predict))\n",
    "print('the classification is:',classification_report(label,predict))"
   ]
  },
  {
   "cell_type": "code",
   "execution_count": 7,
   "id": "3e9754c6-7f6b-472f-a517-773a09038bab",
   "metadata": {
    "tags": []
   },
   "outputs": [
    {
     "data": {
      "text/plain": [
       "<Figure size 300x300 with 0 Axes>"
      ]
     },
     "execution_count": 7,
     "metadata": {},
     "output_type": "execute_result"
    },
    {
     "data": {
      "image/png": "[encoded data removed]",
      "text/plain": [
       "<Figure size 640x480 with 1 Axes>"
      ]
     },
     "metadata": {},
     "output_type": "display_data"
    },
    {
     "data": {
      "text/plain": [
       "<Figure size 300x300 with 0 Axes>"
      ]
     },
     "metadata": {},
     "output_type": "display_data"
    }
   ],
   "source": [
    "#  confusion matrix\n",
    "from mlxtend.plotting import plot_confusion_matrix\n",
    "from sklearn.metrics import confusion_matrix\n",
    "import matplotlib.pyplot as plt\n",
    "from sklearn.metrics import classification_report\n",
    "\n",
    "confusion_data = confusion_matrix(label,predict)\n",
    "fig, ax = plot_confusion_matrix(confusion_data)\n",
    "plt.figure(figsize=(3,3))"
   ]
  },
  {
   "cell_type": "code",
   "execution_count": null,
   "id": "87e569c6-350d-447e-a20a-e390fe2a7121",
   "metadata": {},
   "outputs": [],
   "source": []
  }
 ],
 "metadata": {
  "kernelspec": {
   "display_name": "Python 3 (ipykernel)",
   "language": "python",
   "name": "python3"
  },
  "language_info": {
   "codemirror_mode": {
    "name": "ipython",
    "version": 3
   },
   "file_extension": ".py",
   "mimetype": "text/x-python",
   "name": "python",
   "nbconvert_exporter": "python",
   "pygments_lexer": "ipython3",
   "version": "3.9.7"
  }
 },
 "nbformat": 4,
 "nbformat_minor": 5
}
